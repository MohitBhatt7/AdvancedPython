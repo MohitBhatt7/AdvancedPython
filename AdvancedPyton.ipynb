{
  "nbformat": 4,
  "nbformat_minor": 0,
  "metadata": {
    "colab": {
      "provenance": [],
      "authorship_tag": "ABX9TyNr0PPIywUJ1NAZ6C18dU0X",
      "include_colab_link": true
    },
    "kernelspec": {
      "name": "python3",
      "display_name": "Python 3"
    },
    "language_info": {
      "name": "python"
    }
  },
  "cells": [
    {
      "cell_type": "markdown",
      "metadata": {
        "id": "view-in-github",
        "colab_type": "text"
      },
      "source": [
        "<a href=\"https://colab.research.google.com/github/MohitBhatt7/AdvancedPython/blob/main/AdvancedPyton.ipynb\" target=\"_parent\"><img src=\"https://colab.research.google.com/assets/colab-badge.svg\" alt=\"Open In Colab\"/></a>"
      ]
    },
    {
      "cell_type": "markdown",
      "source": [
        "# Magic method & Dunder method."
      ],
      "metadata": {
        "id": "_CA9qrN7CvkQ"
      }
    },
    {
      "cell_type": "code",
      "execution_count": 8,
      "metadata": {
        "colab": {
          "base_uri": "https://localhost:8080/"
        },
        "id": "0p9Wc7EzB3Kt",
        "outputId": "7acd10fb-88f8-40d6-bde3-ada3b9f77cca"
      },
      "outputs": [
        {
          "output_type": "stream",
          "name": "stdout",
          "text": [
            "Hey there my name if:- Mike and I'm 12 years old.\n"
          ]
        }
      ],
      "source": [
        "class Person:\n",
        "\n",
        "  def __init__(self, name, age):\n",
        "    self.name = name\n",
        "    self.age = age\n",
        "\n",
        "p = Person(\"Mike\", 12)\n",
        "print(f\"Hey there my name if:- {p.name} and I'm {p.age} years old.\")"
      ]
    },
    {
      "cell_type": "code",
      "source": [
        "class Vector:\n",
        "  def __init__(self, x, y):\n",
        "    self.x = x\n",
        "    self.y = y\n",
        "\n",
        "  def __add__(self, other):\n",
        "    return Vector(self.x + other.x, self.y + other.y)\n",
        "\n",
        "v1 = Vector(10, 20)\n",
        "v2 = Vector(50, 60)\n",
        "v3 = v1 + v2\n",
        "print(v3.x)\n",
        "print(v3.y)"
      ],
      "metadata": {
        "colab": {
          "base_uri": "https://localhost:8080/"
        },
        "id": "lDWtq04KDSoI",
        "outputId": "b8858779-bfe5-4a64-aa5c-39a8f3a33af3"
      },
      "execution_count": 9,
      "outputs": [
        {
          "output_type": "stream",
          "name": "stdout",
          "text": [
            "60\n",
            "80\n"
          ]
        }
      ]
    },
    {
      "cell_type": "code",
      "source": [],
      "metadata": {
        "id": "jeyxPBtzFfA4"
      },
      "execution_count": null,
      "outputs": []
    }
  ]
}